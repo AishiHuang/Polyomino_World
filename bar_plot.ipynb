{
 "cells": [
  {
   "cell_type": "code",
   "execution_count": 42,
   "metadata": {},
   "outputs": [],
   "source": [
    "import pandas as pd\n",
    "import matplotlib.pyplot as plt\n",
    "import numpy as np\n",
    "%matplotlib inline"
   ]
  },
  {
   "cell_type": "code",
   "execution_count": 64,
   "metadata": {},
   "outputs": [],
   "source": [
    "df = pd.read_csv ('models/WS_FV_2021_1_6_18_6_8_half_variant_second_train(one_action)_omit_only/performance.csv')\n",
    "# print(df)\n",
    "\n",
    "# WS_FV_2020_12_28_17_0_28_omit_one_shape_second_train\n",
    "# WS_FV_2020_12_28_15_43_11_omit_one_color_second_train\n",
    "# WS_FV_2020_12_28_19_33_20_top_bottom_first_train\n",
    "# WS_FV_2020_12_28_19_33_20_top_bottom_second_train\n",
    "# WS_FV_2021_1_2_0_15_38_omit_one_color_second_train_test_one_color\n",
    "# WS_FV_2021_1_2_0_15_38_omit_one_color_second_train_complete\n",
    "\n",
    "# WS_FV_2021_1_1_15_39_23_omit_one_shape_second_stage_train_&_test_complete_epo5\n",
    "# WS_FV_2021_1_1_17_42_20_omit_one_color_second_stage_train_&_test_complete_epo5\n",
    "# WS_FV_2021_1_1_19_44_53_top_bottom_second_stage_train_&_test_complete_epo5\n"
   ]
  },
  {
   "cell_type": "code",
   "execution_count": 65,
   "metadata": {},
   "outputs": [
    {
     "name": "stdout",
     "output_type": "stream",
     "text": [
      "Index(['epoch', 'time', 'training_cost', 'test_cost', 'shape_training_cost',\n",
      "       'size_training_cost', 'color_training_cost', 'shape_test_cost',\n",
      "       'size_test_cost', 'color_test_cost', 'shape_training_accuracy',\n",
      "       'size_training_accuracy', 'color_training_accuracy',\n",
      "       'shape_test_accuracy', 'size_test_accuracy', 'color_test_accuracy',\n",
      "       'monomino_training_accuracy', 'domino_training_accuracy',\n",
      "       'tromino1_training_accuracy', 'tromino2_training_accuracy',\n",
      "       'tetromino1_training_accuracy', 'tetromino2_training_accuracy',\n",
      "       'tetromino3_training_accuracy', 'tetromino4_training_accuracy',\n",
      "       'tetromino5_training_accuracy', '1_training_accuracy',\n",
      "       '2_training_accuracy', '3_training_accuracy', '4_training_accuracy',\n",
      "       'black_training_accuracy', 'white_training_accuracy',\n",
      "       'red_training_accuracy', 'blue_training_accuracy',\n",
      "       'green_training_accuracy', 'yellow_training_accuracy',\n",
      "       'cyan_training_accuracy', 'magenta_training_accuracy',\n",
      "       'monomino_test_accuracy', 'domino_test_accuracy',\n",
      "       'tromino1_test_accuracy', 'tromino2_test_accuracy',\n",
      "       'tetromino1_test_accuracy', 'tetromino2_test_accuracy',\n",
      "       'tetromino3_test_accuracy', 'tetromino4_test_accuracy',\n",
      "       'tetromino5_test_accuracy', '1_test_accuracy', '2_test_accuracy',\n",
      "       '3_test_accuracy', '4_test_accuracy', 'black_test_accuracy',\n",
      "       'white_test_accuracy', 'red_test_accuracy', 'blue_test_accuracy',\n",
      "       'green_test_accuracy', 'yellow_test_accuracy', 'cyan_test_accuracy',\n",
      "       'magenta_test_accuracy'],\n",
      "      dtype='object')\n"
     ]
    }
   ],
   "source": [
    "df_end = df.tail(1)\n",
    "print(df_end.columns)"
   ]
  },
  {
   "cell_type": "code",
   "execution_count": 66,
   "metadata": {},
   "outputs": [],
   "source": [
    "datas = df_end[[\"shape_training_accuracy\", \"size_training_accuracy\", \"color_training_accuracy\", \"shape_test_accuracy\", \"size_test_accuracy\",\"color_test_accuracy\",\n",
    "              \"monomino_training_accuracy\", \"domino_training_accuracy\", \"tromino1_training_accuracy\", \"tromino2_training_accuracy\",\n",
    "              \"tetromino1_training_accuracy\", \"tetromino2_training_accuracy\", \"tetromino3_training_accuracy\", \"tetromino4_training_accuracy\",\n",
    "              \"tetromino5_training_accuracy\", 'monomino_test_accuracy', 'domino_test_accuracy',\n",
    "       'tromino1_test_accuracy', 'tromino2_test_accuracy',\n",
    "       'tetromino1_test_accuracy', 'tetromino2_test_accuracy',\n",
    "       'tetromino3_test_accuracy', 'tetromino4_test_accuracy',\n",
    "       'tetromino5_test_accuracy']]\n",
    "\n"
   ]
  },
  {
   "cell_type": "code",
   "execution_count": 67,
   "metadata": {},
   "outputs": [],
   "source": [
    "########### usual ###########\n",
    "\n",
    "train_ = datas[[\"shape_training_accuracy\", \"size_training_accuracy\", \"color_training_accuracy\", \n",
    "              \"monomino_training_accuracy\", \"domino_training_accuracy\", \"tromino1_training_accuracy\", \"tromino2_training_accuracy\",\n",
    "              \"tetromino1_training_accuracy\", \"tetromino2_training_accuracy\", \"tetromino3_training_accuracy\", \"tetromino4_training_accuracy\",\n",
    "              \"tetromino5_training_accuracy\"]]\n",
    "test_ = datas[[\"shape_test_accuracy\", \"size_test_accuracy\",\"color_test_accuracy\", 'monomino_test_accuracy', 'domino_test_accuracy',\n",
    "       'tromino1_test_accuracy', 'tromino2_test_accuracy',\n",
    "       'tetromino1_test_accuracy', 'tetromino2_test_accuracy',\n",
    "       'tetromino3_test_accuracy', 'tetromino4_test_accuracy',\n",
    "       'tetromino5_test_accuracy']]\n",
    "train = train_.values[0]\n",
    "train_list = [train[0],train[1], train[2], train[3], train[4], (train[5]+train[6])/2, (train[7]+train[8]+train[9]+train[10]+train[11])/5]\n",
    "\n",
    "test = test_.values[0]\n",
    "test_list = [test[0],test[1], test[2], test[3], test[4], (test[5]+test[6])/2, (test[7]+test[8]+test[9]+test[10]+test[11])/5]\n",
    "\n",
    "index = ['shape', 'size', 'color','monomino', 'domino', 'tromino1', 'tromino2',\n",
    "         'tetromino1','tetromino2','tetromino3','tetromino4','tetromino5']\n",
    "index_list = ['shape', 'size', 'color','monomino', 'domino', 'tromino','tetromino']\n",
    "\n"
   ]
  },
  {
   "cell_type": "code",
   "execution_count": 69,
   "metadata": {},
   "outputs": [
    {
     "data": {
      "image/png": "[encoded data removed]",
      "text/plain": [
       "<Figure size 432x288 with 1 Axes>"
      ]
     },
     "metadata": {
      "needs_background": "light"
     },
     "output_type": "display_data"
    }
   ],
   "source": [
    "######## usual #######\n",
    "dff = pd.DataFrame({'train': train_list,'test': test_list}, index=index_list)\n",
    "ax = dff.plot.bar(rot=0)\n",
    "# ax = datas.plot.bar(rot=0)\n",
    "plt.savefig('figures/3_half_variant_second_train_rest_bar')\n",
    "# plt.savefig('figures/4_2c_top_bottom_second_train_rest_bar')\n",
    "# plt.savefig('figures/4_2c_top_bottom_second_stage_train_&_test_complete_epo5_bar')\n"
   ]
  },
  {
   "cell_type": "code",
   "execution_count": 52,
   "metadata": {},
   "outputs": [
    {
     "data": {
      "image/png": "[encoded data removed]",
      "text/plain": [
       "<Figure size 432x288 with 1 Axes>"
      ]
     },
     "metadata": {
      "needs_background": "light"
     },
     "output_type": "display_data"
    }
   ],
   "source": [
    "########### omit shape ###########\n",
    "train_ = datas[[\"shape_training_accuracy\", \"size_training_accuracy\", \"color_training_accuracy\", \n",
    "              \"monomino_training_accuracy\", \"domino_training_accuracy\", \"tromino1_training_accuracy\", \"tromino2_training_accuracy\",\n",
    "              \"tetromino1_training_accuracy\", \"tetromino2_training_accuracy\", \"tetromino3_training_accuracy\", \"tetromino4_training_accuracy\",\n",
    "              \"tetromino5_training_accuracy\"]]\n",
    "test_ = datas[[\"shape_test_accuracy\", \"size_test_accuracy\",\"color_test_accuracy\", 'monomino_test_accuracy', 'domino_test_accuracy',\n",
    "       'tromino1_test_accuracy', 'tromino2_test_accuracy',\n",
    "       'tetromino1_test_accuracy', 'tetromino2_test_accuracy',\n",
    "       'tetromino3_test_accuracy', 'tetromino4_test_accuracy',\n",
    "       'tetromino5_test_accuracy']]\n",
    "\n",
    "train = train_.values[0]\n",
    "test = test_.values[0]\n",
    "\n",
    "plotdata = pd.DataFrame({'train': train,'test': test}, \n",
    "    index=['shape', 'size', 'color','monomino', 'domino', 'tromino1', 'tromino2',\n",
    "         'tetromino1','tetromino2','tetromino3','tetromino4','tetromino5'])\n",
    "\n",
    "plotdata.plot(kind=\"bar\")\n",
    "plt.ylabel(\"Accuracy\")\n",
    "# plt.savefig('figures/4_2a_omit_one_shape_second_train_bar')\n",
    "# plt.savefig('figures/4_2a_omit_one_shape_second_stage_train_&_test_complete_epo5_bar')\n",
    "\n"
   ]
  },
  {
   "cell_type": "code",
   "execution_count": 57,
   "metadata": {},
   "outputs": [
    {
     "data": {
      "image/png": "[encoded data removed]",
      "text/plain": [
       "<Figure size 432x288 with 1 Axes>"
      ]
     },
     "metadata": {
      "needs_background": "light"
     },
     "output_type": "display_data"
    }
   ],
   "source": [
    "######### omit color #########\n",
    "train_ = df_end[[\"shape_training_accuracy\", \"size_training_accuracy\", \"color_training_accuracy\", \n",
    "              'black_training_accuracy', 'white_training_accuracy',\n",
    "       'red_training_accuracy', 'blue_training_accuracy',\n",
    "       'green_training_accuracy', 'yellow_training_accuracy',\n",
    "       'cyan_training_accuracy', 'magenta_training_accuracy']]\n",
    "test_ = df_end[[\"shape_test_accuracy\", \"size_test_accuracy\",\"color_test_accuracy\", 'black_test_accuracy',\n",
    "       'white_test_accuracy', 'red_test_accuracy', 'blue_test_accuracy',\n",
    "       'green_test_accuracy', 'yellow_test_accuracy', 'cyan_test_accuracy',\n",
    "       'magenta_test_accuracy']]\n",
    "\n",
    "train = train_.values[0]\n",
    "test = test_.values[0]\n",
    "\n",
    "color_index = ['shape', 'size', 'color','black', 'white', 'red', 'blue', 'green', 'yellow', 'cyan', 'magenta']\n",
    "\n",
    "plotdata = pd.DataFrame({'train': train,'test': test}, \n",
    "    index=color_index)\n",
    "\n",
    "plotdata.plot(kind=\"bar\")\n",
    "plt.ylabel(\"Accuracy\")\n",
    "# plt.savefig('figures/4_2b_omit_one_color_second_train_bar')\n",
    "# plt.savefig('figures/4_2b_omit_one_color_second_stage_train_&_test_complete_epo5_bar')\n"
   ]
  },
  {
   "cell_type": "code",
   "execution_count": null,
   "metadata": {},
   "outputs": [],
   "source": []
  }
 ],
 "metadata": {
  "kernelspec": {
   "display_name": "Python 3",
   "language": "python",
   "name": "python3"
  },
  "language_info": {
   "codemirror_mode": {
    "name": "ipython",
    "version": 3
   },
   "file_extension": ".py",
   "mimetype": "text/x-python",
   "name": "python",
   "nbconvert_exporter": "python",
   "pygments_lexer": "ipython3",
   "version": "3.8.3"
  }
 },
 "nbformat": 4,
 "nbformat_minor": 4
}
